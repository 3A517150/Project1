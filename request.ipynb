{
 "cells": [
  {
   "cell_type": "markdown",
   "metadata": {},
   "source": [
    "# 函示庫"
   ]
  },
  {
   "cell_type": "code",
   "execution_count": 45,
   "metadata": {},
   "outputs": [],
   "source": [
    "import lxml\n",
    "from bs4 import BeautifulSoup\n",
    "import requests\n",
    "import os\n",
    "import csv\n",
    "from urllib.request import urlopen"
   ]
  },
  {
   "cell_type": "markdown",
   "metadata": {},
   "source": [
    "# 搜尋Youtube"
   ]
  },
  {
   "cell_type": "code",
   "execution_count": 46,
   "metadata": {},
   "outputs": [
    {
     "name": "stdout",
     "output_type": "stream",
     "text": [
      "https://www.youtube.com/results?search_query=rr\n"
     ]
    }
   ],
   "source": [
    "Search=input('https://www.youtube.com/results?search_query=')\n",
    "url = 'https://www.youtube.com/results?search_query=' + Search"
   ]
  },
  {
   "cell_type": "markdown",
   "metadata": {},
   "source": [
    "# 下載網頁資訊"
   ]
  },
  {
   "cell_type": "code",
   "execution_count": 47,
   "metadata": {
    "scrolled": false
   },
   "outputs": [
    {
     "name": "stdout",
     "output_type": "stream",
     "text": [
      "網頁下載中\n",
      "/Users/yeshiouwei/Project1\n",
      "網頁下載完成\n"
     ]
    }
   ],
   "source": [
    "htmlfile = requests.get(url) \n",
    "objSoup =bs4.BeautifulSoup(htmlfile.text,'html.parser')\n",
    "print(\"網頁下載中\")\n",
    "print(os.path.abspath('.'))\n",
    "htmlfile.raise_for_status()\n",
    "fn = 'Youtube.text'\n",
    "with open(fn, 'w') as file_Obj:\n",
    "    file_Obj.write(htmlfile.text)\n",
    "print(\"網頁下載完成\")"
   ]
  },
  {
   "cell_type": "markdown",
   "metadata": {},
   "source": [
    "# 爬取網頁標題和網頁url"
   ]
  },
  {
   "cell_type": "code",
   "execution_count": 48,
   "metadata": {
    "scrolled": true
   },
   "outputs": [],
   "source": [
    "for all_mv in objSoup.select(\"div .yt-lockup-video\"):\n",
    "    data = all_mv.select(\"a[rel='spf-prefetch']\")\n",
    "    fn_Web='Youtube_Web.csv' \n",
    "    with open(fn_Web,'w')as file_Obj:\n",
    "        i = 0\n",
    "        title=data[i].get(\"title\")\n",
    "        web=\"https://www.youtube.com{}\".format(data[i].get(\"href\"))\n",
    "        file_Obj.write(title)\n",
    "        file_Obj.write(web)\n",
    "        i = i + 1"
   ]
  },
  {
   "cell_type": "markdown",
   "metadata": {},
   "source": [
    "# 讀取CSV資料"
   ]
  },
  {
   "cell_type": "code",
   "execution_count": 49,
   "metadata": {},
   "outputs": [
    {
     "name": "stdout",
     "output_type": "stream",
     "text": [
      "['2019 BMW S 1000 RR - Awesome Supersports Bikehttps://www.youtube.com/watch?v=UNzi59A6XoM']\n"
     ]
    }
   ],
   "source": [
    "with open('Youtube_Web.csv', newline='') as csvfile:\n",
    "\n",
    "  # 讀取 CSV 檔案內容\n",
    "  rows = csv.reader(csvfile)\n",
    "\n",
    "  # 以迴圈輸出每一列\n",
    "  for row in rows:\n",
    "    print(row)"
   ]
  },
  {
   "cell_type": "markdown",
   "metadata": {},
   "source": [
    "# 爬取主題留言"
   ]
  },
  {
   "cell_type": "code",
   "execution_count": null,
   "metadata": {},
   "outputs": [],
   "source": []
  }
 ],
 "metadata": {
  "kernelspec": {
   "display_name": "Python 3",
   "language": "python",
   "name": "python3"
  },
  "language_info": {
   "codemirror_mode": {
    "name": "ipython",
    "version": 3
   },
   "file_extension": ".py",
   "mimetype": "text/x-python",
   "name": "python",
   "nbconvert_exporter": "python",
   "pygments_lexer": "ipython3",
   "version": "3.8.0"
  }
 },
 "nbformat": 4,
 "nbformat_minor": 2
}

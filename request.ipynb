{
 "cells": [
  {
   "cell_type": "markdown",
   "metadata": {},
   "source": [
    "# https://www.youtube.com/watch?v=2guKJfvq4uI\n",
    "留言分類"
   ]
  },
  {
   "cell_type": "markdown",
   "metadata": {},
   "source": [
    "# 函示庫"
   ]
  },
  {
   "cell_type": "code",
   "execution_count": 87,
   "metadata": {},
   "outputs": [],
   "source": [
    "import lxml\n",
    "from bs4 import BeautifulSoup\n",
    "import requests\n",
    "import os\n",
    "import csv\n",
    "from urllib.request import urlopen"
   ]
  },
  {
   "cell_type": "markdown",
   "metadata": {},
   "source": [
    "# 搜尋Youtube"
   ]
  },
  {
   "cell_type": "code",
   "execution_count": 88,
   "metadata": {},
   "outputs": [
    {
     "name": "stdout",
     "output_type": "stream",
     "text": [
      "https://www.youtube.com/results?search_query=連千毅\n"
     ]
    }
   ],
   "source": [
    "Search=input('https://www.youtube.com/results?search_query=')\n",
    "url = 'https://www.youtube.com/results?search_query=' + Search"
   ]
  },
  {
   "cell_type": "markdown",
   "metadata": {},
   "source": [
    "# 下載網頁資訊"
   ]
  },
  {
   "cell_type": "code",
   "execution_count": 89,
   "metadata": {
    "scrolled": false
   },
   "outputs": [
    {
     "name": "stdout",
     "output_type": "stream",
     "text": [
      "網頁下載中\n",
      "/Users/yeshiouwei/Project1\n",
      "網頁下載完成\n"
     ]
    }
   ],
   "source": [
    "htmlfile = requests.get(url) \n",
    "objSoup =bs4.BeautifulSoup(htmlfile.text,'html.parser')\n",
    "print(\"網頁下載中\")\n",
    "print(os.path.abspath('.'))\n",
    "htmlfile.raise_for_status()\n",
    "fn = 'Youtube.text'\n",
    "with open(fn, 'w') as file_Obj:\n",
    "    file_Obj.write(htmlfile.text)\n",
    "print(\"網頁下載完成\")"
   ]
  },
  {
   "cell_type": "markdown",
   "metadata": {},
   "source": [
    "# 爬取網頁標題和網頁url"
   ]
  },
  {
   "cell_type": "code",
   "execution_count": 90,
   "metadata": {
    "scrolled": true
   },
   "outputs": [
    {
     "name": "stdout",
     "output_type": "stream",
     "text": [
      "名稱: 「連千毅大弟子」賢賢重新站上蘭庭直播！世路崎嶇，再和粉絲相聚哽咽，幾度說不出話。 ...「謝謝」是最由衷說出的兩字，卻數度說不出，擋住的全是咽喉中的淚水！\n",
      "連結: https://www.youtube.com/watch?v=7L5kQaVZJDg\n",
      "發佈時間: 1 天前\n",
      "觀看人數: 觀看次數：17,247次\n",
      "照片: https://i.ytimg.com/vi/7L5kQaVZJDg/hqdefault.jpg?sqp=-oaymwEjCPYBEIoBSFryq4qpAxUIARUAAAAAGAElAADIQj0AgKJDeAE=&rs=AOn4CLBNWKvkaTD7EoM5vg8XwUryGELoDg\n",
      "-------------------\n",
      "名稱: 連千毅走後，蘭庭國際是這樣直播的！「佛系總裁風格」，每天賠一標交心一位朋友 ，賣車賣房，堅持開台一個月都不賺錢！\n",
      "連結: https://www.youtube.com/watch?v=Fvkiu0rqPFY\n",
      "發佈時間: 36 分鐘前\n",
      "觀看人數: 觀看次數：112次\n",
      "照片: https://i.ytimg.com/vi/Fvkiu0rqPFY/hqdefault.jpg?sqp=-oaymwEjCPYBEIoBSFryq4qpAxUIARUAAAAAGAElAADIQj0AgKJDeAE=&rs=AOn4CLCBrj3j6mq0WBkeKbob_bkeAOajjQ\n",
      "-------------------\n",
      "名稱: 連千毅事件翻版?花店同行互嗆被狠砸\n",
      "連結: https://www.youtube.com/watch?v=iLhgWA8bPHQ\n",
      "發佈時間: 25 分鐘前\n",
      "觀看人數: 觀看次數：17次\n",
      "照片: https://i.ytimg.com/vi/iLhgWA8bPHQ/hqdefault.jpg?sqp=-oaymwEjCPYBEIoBSFryq4qpAxUIARUAAAAAGAElAADIQj0AgKJDeAE=&rs=AOn4CLCcR2dzW4q00MKNdVUHA1fI4kFyWg\n",
      "-------------------\n",
      "名稱: 直播主之亂連千毅延押 嘆「說好的江湖道義呢？」\n",
      "連結: https://www.youtube.com/watch?v=xcHsC2mBsEs\n",
      "發佈時間: 1 週前\n",
      "觀看人數: 觀看次數：209,506次\n",
      "照片: https://i.ytimg.com/vi/xcHsC2mBsEs/hqdefault.jpg?sqp=-oaymwEjCPYBEIoBSFryq4qpAxUIARUAAAAAGAElAADIQj0AgKJDeAE=&rs=AOn4CLDKYATbJvF-9EoFHnFnrP9Edb_bhQ\n",
      "-------------------\n",
      "名稱: 泣新聞別再騙了！連千毅事件的真相！媒體為隱瞞骯髒意圖！不惜做假新聞帶風向！甩鍋給踢爆真相的人！事後竟然還在去幫連千毅洗白！？\n",
      "連結: https://www.youtube.com/watch?v=4jCdggmEVC8\n",
      "發佈時間: 1 個月前\n",
      "觀看人數: 觀看次數：2,051,859次\n",
      "照片: https://i.ytimg.com/vi/4jCdggmEVC8/hqdefault.jpg?sqp=-oaymwEjCPYBEIoBSFryq4qpAxUIARUAAAAAGAElAADIQj0AgKJDeAE=&rs=AOn4CLAOv7n9YeGyp6b1uNf3a1SA_HKAHQ\n",
      "-------------------\n",
      "名稱: 責任都他扛？連千毅嘆道義在哪　提抗告｜三立新聞台\n",
      "連結: https://www.youtube.com/watch?v=B1wnR96SCSI\n",
      "發佈時間: 1 週前\n",
      "觀看人數: 觀看次數：33,523次\n",
      "照片: https://i.ytimg.com/vi/B1wnR96SCSI/hqdefault.jpg?sqp=-oaymwEjCPYBEIoBSFryq4qpAxUIARUAAAAAGAElAADIQj0AgKJDeAE=&rs=AOn4CLD5ciBQMZBhWvjbYj3GAtvwUc8x4Q\n",
      "-------------------\n",
      "名稱: 「連千毅再現江湖？」蘭庭．真老闆．現身！！這幾個日子以來，所有的問題，面對群眾問題一次回答！...(直播全紀錄11/19．【蘭庭國際直播】)\n",
      "連結: https://www.youtube.com/watch?v=lcuEB7Y-TR8\n",
      "發佈時間: 直播時間：1 週前\n",
      "觀看人數: 觀看次數：30,064次\n",
      "照片: https://i.ytimg.com/vi/lcuEB7Y-TR8/hqdefault.jpg?sqp=-oaymwEjCPYBEIoBSFryq4qpAxUIARUAAAAAGAElAADIQj0AgKJDeAE=&rs=AOn4CLAShGf7rTWC64qfhIjBaQSWChS3Kw\n",
      "-------------------\n",
      "名稱: 連千毅大弟子求職碰壁，為了生活去當熊貓外送員！？「賴賢賢外送員近況」失業？借貸？求職到處碰壁。Ubereat跟熊貓，還是選了熊貓，原因都是淚水！\n",
      "連結: https://www.youtube.com/watch?v=FTjKEA-dYO0\n",
      "發佈時間: 1 週前\n",
      "觀看人數: 觀看次數：65,124次\n",
      "照片: https://i.ytimg.com/vi/FTjKEA-dYO0/hqdefault.jpg?sqp=-oaymwEjCPYBEIoBSFryq4qpAxUIARUAAAAAGAElAADIQj0AgKJDeAE=&rs=AOn4CLDOeMyvZHAA8DKHMFW-1XpN0Vysjg\n",
      "-------------------\n",
      "名稱: 連千毅什麼時候回來？「蘭庭國際」跟「蘭庭精品」的差別？完整回覆網友問與答 ...賢賢啥時開直播？蛇令人呢？一集看明白！\n",
      "連結: https://www.youtube.com/watch?v=wFZfNahAB0E\n",
      "發佈時間: 1 週前\n",
      "觀看人數: 觀看次數：16,933次\n",
      "照片: https://i.ytimg.com/vi/wFZfNahAB0E/hqdefault.jpg?sqp=-oaymwEjCPYBEIoBSFryq4qpAxUIARUAAAAAGAElAADIQj0AgKJDeAE=&rs=AOn4CLB6kHsvGofIAkSXDR9kngp7sp_9QA\n",
      "-------------------\n",
      "名稱: 連千毅徒弟...賢賢直播後消失　資深警曝：被警告！｜三立新聞網SETN.com\n",
      "連結: https://www.youtube.com/watch?v=85lft2JtGrU\n",
      "發佈時間: 1 個月前\n",
      "觀看人數: 觀看次數：226,678次\n",
      "照片: https://i.ytimg.com/vi/85lft2JtGrU/hqdefault.jpg?sqp=-oaymwEjCPYBEIoBSFryq4qpAxUIARUAAAAAGAElAADIQj0AgKJDeAE=&rs=AOn4CLB5Tbw9oXHgvV6siv1MoQXlm-ZWSQ\n",
      "-------------------\n",
      "名稱: 【新蘭庭/後連千毅時代】「蛇令即將回歸？」...最會送的台！每天交一個朋友。厲害了，做直播做到賣房子...【現正直播2019/12/02 】\n",
      "連結: https://www.youtube.com/watch?v=tXeJ1JwyjzM\n",
      "發佈時間: 直播時間：17 小時前\n",
      "觀看人數: 觀看次數：2,356次\n",
      "照片: https://i.ytimg.com/vi/tXeJ1JwyjzM/hqdefault.jpg?sqp=-oaymwEjCPYBEIoBSFryq4qpAxUIARUAAAAAGAElAADIQj0AgKJDeAE=&rs=AOn4CLDflzpmpDS0pAFohQ6jLw88Mw9TBQ\n",
      "-------------------\n",
      "名稱: 連千毅三年前最早的直播，這個直播你一定沒看過！沒穿西裝也沒有辣妹。｜「沒有穿西裝的連千毅」T恤、牛仔褲\n",
      "連結: https://www.youtube.com/watch?v=xq0aUvDpMdE\n",
      "發佈時間: 3 週前\n",
      "觀看人數: 觀看次數：33,546次\n",
      "照片: https://i.ytimg.com/vi/xq0aUvDpMdE/hqdefault.jpg?sqp=-oaymwEjCPYBEIoBSFryq4qpAxUIARUAAAAAGAElAADIQj0AgKJDeAE=&rs=AOn4CLDqA_yKYVtl--ah3VoHJykjBQ65uw\n",
      "-------------------\n",
      "名稱: 獨家！連千毅收押禁見！天道盟盟主「鐵霸」最新回應！直播主敢囂張！因有黑道大哥幫「喬」！離職後偷護照報復老闆！代價是60萬＋涉嫌恐嚇！南韓「華城連環殺人案」33年後鎖定兇嫌！【94要客訴之人在江湖】\n",
      "連結: https://www.youtube.com/watch?v=xRQLUx6WuUE\n",
      "發佈時間: 直播時間：2 個月前\n",
      "觀看人數: 觀看次數：825,603次\n",
      "照片: https://i.ytimg.com/vi/xRQLUx6WuUE/hqdefault.jpg?sqp=-oaymwEjCPYBEIoBSFryq4qpAxUIARUAAAAAGAElAADIQj0AgKJDeAE=&rs=AOn4CLAcM9jONmNZPOHXuoD8ddGZGaQiWA\n",
      "-------------------\n",
      "名稱: 烏鴉業配？連千毅事件！影片真相完整還原！【烏鴉】\n",
      "連結: https://www.youtube.com/watch?v=fBQ5yMc24a4\n",
      "發佈時間: 2 個月前\n",
      "觀看人數: 觀看次數：1,056,916次\n",
      "照片: https://i.ytimg.com/vi/fBQ5yMc24a4/hqdefault.jpg?sqp=-oaymwEjCPYBEIoBSFryq4qpAxUIARUAAAAAGAElAADIQj0AgKJDeAE=&rs=AOn4CLDLhD5UJPZ-85Lj8Q9mJfKQngcQSQ\n",
      "-------------------\n",
      "名稱: 館長 連千毅直播訪談 英雄惜英雄/兩大直播天王PK 【今晚好精彩】\n",
      "連結: https://www.youtube.com/watch?v=CDst3JIi4l4\n",
      "發佈時間: 2 個月前\n",
      "觀看人數: 觀看次數：281,560次\n",
      "照片: https://i.ytimg.com/vi/CDst3JIi4l4/hqdefault.jpg?sqp=-oaymwEjCPYBEIoBSFryq4qpAxUIARUAAAAAGAElAADIQj0AgKJDeAE=&rs=AOn4CLDCbmo1mvc-Wu01FqxY_DwkuCFSgg\n",
      "-------------------\n",
      "名稱: 連千毅日本沖繩那霸出遊放鬆，直播比基尼辣妹自拍，浮潛差點被浪沖走...\n",
      "連結: https://www.youtube.com/watch?v=VKJYYrv39mQ\n",
      "發佈時間: 1 個月前\n",
      "觀看人數: 觀看次數：87,350次\n",
      "照片: https://i.ytimg.com/vi/VKJYYrv39mQ/hqdefault.jpg?sqp=-oaymwEjCPYBEIoBSFryq4qpAxUIARUAAAAAGAElAADIQj0AgKJDeAE=&rs=AOn4CLCPjT1h5QCpqAGlO8LdkCV6thgl0w\n",
      "-------------------\n",
      "名稱: 【新蘭庭/後連千毅時代】連千毅走後，蘭庭真正老闆，笑著賣家產也要繼續直播...(直播完整記錄20191202)\n",
      "連結: https://www.youtube.com/watch?v=bzsDZbsGeG8\n",
      "發佈時間: 15 小時前\n",
      "觀看人數: 觀看次數：152次\n",
      "照片: https://i.ytimg.com/vi/bzsDZbsGeG8/hqdefault.jpg?sqp=-oaymwEjCPYBEIoBSFryq4qpAxUIARUAAAAAGAElAADIQj0AgKJDeAE=&rs=AOn4CLBfJH7TzUpywS2zyUzByRAv_i5JDw\n",
      "-------------------\n",
      "名稱: 後宮大亂鬥！連千毅開10萬包養子涵 對話全曝光！\n",
      "連結: https://www.youtube.com/watch?v=wX9YG83L8G0\n",
      "發佈時間: 1 個月前\n",
      "觀看人數: 觀看次數：208,990次\n",
      "照片: https://i.ytimg.com/vi/wX9YG83L8G0/hqdefault.jpg?sqp=-oaymwEjCPYBEIoBSFryq4qpAxUIARUAAAAAGAElAADIQj0AgKJDeAE=&rs=AOn4CLC7CXE-n8ymz7DevDIprxOlu7bDQA\n",
      "-------------------\n",
      "名稱: 假一賠百萬！高檢鑑定連千毅16件精品攏係假\n",
      "連結: https://www.youtube.com/watch?v=ZwpSVSK2WsE\n",
      "發佈時間: 1 個月前\n",
      "觀看人數: 觀看次數：54,936次\n",
      "照片: https://i.ytimg.com/vi/ZwpSVSK2WsE/hqdefault.jpg?sqp=-oaymwEjCPYBEIoBSFryq4qpAxUIARUAAAAAGAElAADIQj0AgKJDeAE=&rs=AOn4CLBYyrEO-fLpguKv7Hdi-fxlYEJeng\n",
      "-------------------\n",
      "名稱: 連千毅遭收押會伸援手？大哥：先評估形勢｜三立新聞台\n",
      "連結: https://www.youtube.com/watch?v=O-Gln_RWcOc\n",
      "發佈時間: 2 個月前\n",
      "觀看人數: 觀看次數：384,875次\n",
      "照片: https://i.ytimg.com/vi/O-Gln_RWcOc/hqdefault.jpg?sqp=-oaymwEjCPYBEIoBSFryq4qpAxUIARUAAAAAGAElAADIQj0AgKJDeAE=&rs=AOn4CLAlcUJB-ES9cV3jk7MAU3GlwVWNBg\n",
      "-------------------\n"
     ]
    }
   ],
   "source": [
    "for all_mv in objSoup.select(\".yt-lockup-video\"):\n",
    "    # 抓取 Title & Link\n",
    "    data = all_mv.select(\"a[rel='spf-prefetch']\")\n",
    "    print(\"名稱: {}\".format(data[0].get(\"title\")))\n",
    "    print(\"連結: https://www.youtube.com{}\".format(data[0].get(\"href\")))\n",
    "     \n",
    "    # 抓取觀看時間與人數\n",
    "    data = all_mv.select(\".yt-lockup-meta-info\")\n",
    "    time = data[0].get_text(\"#\").split(\"#\")[0]\n",
    "    see = data[0].get_text(\"#\").split(\"#\")[1]\n",
    "    print(\"發佈時間: {}\".format(time))\n",
    "    print(\"觀看人數: {}\".format(see))\n",
    "    \n",
    "    # 抓取Img\n",
    "    data = all_mv.select(\"a[rel='spf-prefetch']\")\n",
    "    img = all_mv.select(\"img\")\n",
    "    if img[0].get(\"src\") != \"/yts/img/pixel-vfl3z5WfW.gif\":\n",
    "        print(\"照片: {}\".format(img[0].get(\"src\")))\n",
    "    else:\n",
    "        print(\"照片: {}\".format(img[0].get(\"data-thumb\")))\n",
    "    print(\"-------------------\")"
   ]
  },
  {
   "cell_type": "markdown",
   "metadata": {},
   "source": [
    "# 爬取主題留言"
   ]
  },
  {
   "cell_type": "code",
   "execution_count": null,
   "metadata": {},
   "outputs": [],
   "source": [
    "SearchWeb = input(\"想爬取的網頁:\")\n",
    "Webfile = requests.get(SearchWeb)\n",
    "WebSoup = BeautifulSoup(Webfile.text,'html.parser')\n",
    "print(\"頁面下載中\")\n",
    "print(os.path.abspath('.'))\n",
    "htmlfile.raise_for_status()\n",
    "Webfn = 'Web.text'\n",
    "with open(Webfn, 'w') as Web_Obj:\n",
    "    Web_Obj.write(Webfile.text)\n",
    "print(\"網頁下載完成\")"
   ]
  },
  {
   "cell_type": "markdown",
   "metadata": {},
   "source": [
    "for Web in WebSoup.select(\"yt-formatted-string\"):"
   ]
  },
  {
   "cell_type": "code",
   "execution_count": null,
   "metadata": {},
   "outputs": [],
   "source": []
  },
  {
   "cell_type": "code",
   "execution_count": null,
   "metadata": {},
   "outputs": [],
   "source": []
  }
 ],
 "metadata": {
  "kernelspec": {
   "display_name": "Python 3",
   "language": "python",
   "name": "python3"
  },
  "language_info": {
   "codemirror_mode": {
    "name": "ipython",
    "version": 3
   },
   "file_extension": ".py",
   "mimetype": "text/x-python",
   "name": "python",
   "nbconvert_exporter": "python",
   "pygments_lexer": "ipython3",
   "version": "3.8.0"
  }
 },
 "nbformat": 4,
 "nbformat_minor": 2
}

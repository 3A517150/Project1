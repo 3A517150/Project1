{
 "cells": [
  {
   "cell_type": "markdown",
   "metadata": {},
   "source": [
    "# 函示庫"
   ]
  },
  {
   "cell_type": "code",
   "execution_count": 45,
   "metadata": {},
   "outputs": [],
   "source": [
    "import lxml\n",
    "from bs4 import BeautifulSoup\n",
    "import requests\n",
    "import os\n",
    "import csv\n",
    "from urllib.request import urlopen"
   ]
  },
  {
   "cell_type": "markdown",
   "metadata": {},
   "source": [
    "# 搜尋Youtube"
   ]
  },
  {
   "cell_type": "code",
   "execution_count": 46,
   "metadata": {},
   "outputs": [
    {
     "name": "stdout",
     "output_type": "stream",
     "text": [
      "https://www.youtube.com/results?search_query=rr\n"
     ]
    }
   ],
   "source": [
    "Search=input('https://www.youtube.com/results?search_query=')\n",
    "url = 'https://www.youtube.com/results?search_query=' + Search"
   ]
  },
  {
   "cell_type": "markdown",
   "metadata": {},
   "source": [
    "# 下載網頁資訊"
   ]
  },
  {
   "cell_type": "code",
   "execution_count": 47,
   "metadata": {
    "scrolled": false
   },
   "outputs": [
    {
     "name": "stdout",
     "output_type": "stream",
     "text": [
      "網頁下載中\n",
      "/Users/yeshiouwei/Project1\n",
      "網頁下載完成\n"
     ]
    }
   ],
   "source": [
    "htmlfile = requests.get(url) \n",
    "contest = request.content\n",
    "objSoup =bs4.BeautifulSoup(contest,'html.parser')\n",
    "print(\"網頁下載中\")\n",
    "print(os.path.abspath('.'))\n",
    "htmlfile.raise_for_status()\n",
    "fn = 'Youtube.text'\n",
    "with open(fn, 'w') as file_Obj:\n",
    "    file_Obj.write(htmlfile.text)\n",
    "print(\"網頁下載完成\")"
   ]
  },
  {
   "cell_type": "markdown",
   "metadata": {},
   "source": [
    "# 爬取網頁標題和網頁url"
   ]
  },
  {
   "cell_type": "code",
   "execution_count": 61,
   "metadata": {
    "scrolled": true
   },
   "outputs": [
    {
     "name": "stdout",
     "output_type": "stream",
     "text": [
      "名稱: LCK VS LPL，一次看完 2019 RR 總冠軍，Faker妮可 驚天神坐，Deft EZ E臉爆射，FPX 拿出TFA陣 誓死一搏，神牛 一頂四，2019 洲際邀請賽 決賽\n",
      "連結: https://www.youtube.com/watch?v=N2h8DG0mAKA\n",
      "發佈時間: 4 個月前\n",
      "觀看人數: 觀看次數：20,120次\n",
      "照片: https://i.ytimg.com/vi/N2h8DG0mAKA/hqdefault.jpg?sqp=-oaymwEjCPYBEIoBSFryq4qpAxUIARUAAAAAGAElAADIQj0AgKJDeAE=&rs=AOn4CLAe6Rv_5W7k5akSeifMLe_Pe_oemw\n",
      "-------------------\n",
      "名稱: 2 packed sweets | Comparison of Replica and Real food | ASMR\n",
      "連結: https://www.youtube.com/watch?v=kAAKXpfjiPM\n",
      "發佈時間: 2 週前\n",
      "觀看人數: 觀看次數：980,244次\n",
      "照片: https://i.ytimg.com/vi/kAAKXpfjiPM/hqdefault.jpg?sqp=-oaymwEjCPYBEIoBSFryq4qpAxUIARUAAAAAGAElAADIQj0AgKJDeAE=&rs=AOn4CLA8VOtJGLIqIb7Gho2GD5umRUfWOQ\n",
      "-------------------\n",
      "名稱: Ringtons Tea 2019 - Tea Chest Caddy\n",
      "連結: https://www.youtube.com/watch?v=7DPRlNjPZKs\n",
      "發佈時間: 4 週前\n",
      "觀看人數: 觀看次數：21,040次\n",
      "照片: https://i.ytimg.com/vi/7DPRlNjPZKs/hqdefault.jpg?sqp=-oaymwEjCPYBEIoBSFryq4qpAxUIARUAAAAAGAElAADIQj0AgKJDeAE=&rs=AOn4CLDTryK5jAWTnwHsiHanw7B454iSEQ\n",
      "-------------------\n",
      "名稱: Boxed mini cake | Comparison of Replica and Real ones | Wedgwood\n",
      "連結: https://www.youtube.com/watch?v=zPf2K0LTi9E\n",
      "發佈時間: 1 個月前\n",
      "觀看人數: 觀看次數：63,367次\n",
      "照片: https://i.ytimg.com/vi/zPf2K0LTi9E/hqdefault.jpg?sqp=-oaymwEjCPYBEIoBSFryq4qpAxUIARUAAAAAGAElAADIQj0AgKJDeAE=&rs=AOn4CLBHnKUpswhEvMyYynFeAltmns5BSA\n",
      "-------------------\n",
      "名稱: Earthquake Emergency Backpack with Food & Water for one person\n",
      "連結: https://www.youtube.com/watch?v=MdkqbkBKhGg\n",
      "發佈時間: 1 個月前\n",
      "觀看人數: 觀看次數：39,772次\n",
      "照片: https://i.ytimg.com/vi/MdkqbkBKhGg/hqdefault.jpg?sqp=-oaymwEjCPYBEIoBSFryq4qpAxUIARUAAAAAGAElAADIQj0AgKJDeAE=&rs=AOn4CLANvGHuZyG5BuJ7Mn4ODFR-ppXQXA\n",
      "-------------------\n",
      "名稱: Rice Ball Fillings Ring | Comparison of Real food and Replica | ASMR\n",
      "連結: https://www.youtube.com/watch?v=jZ02ER9JfJ8\n",
      "發佈時間: 2 個月前\n",
      "觀看人數: 觀看次數：107,684次\n",
      "照片: https://i.ytimg.com/vi/jZ02ER9JfJ8/hqdefault.jpg?sqp=-oaymwEjCPYBEIoBSFryq4qpAxUIARUAAAAAGAElAADIQj0AgKJDeAE=&rs=AOn4CLDcji9Rsvs3vju-HNJu-n-RUfg3jQ\n",
      "-------------------\n",
      "名稱: Sweets Themed Chopstick Rest (Ceramic) ASMR\n",
      "連結: https://www.youtube.com/watch?v=K1XX0iun0fk\n",
      "發佈時間: 2 個月前\n",
      "觀看人數: 觀看次數：51,956次\n",
      "照片: https://i.ytimg.com/vi/K1XX0iun0fk/hqdefault.jpg?sqp=-oaymwEjCPYBEIoBSFryq4qpAxUIARUAAAAAGAElAADIQj0AgKJDeAE=&rs=AOn4CLBQ2N_bWAh_avEVOJQKxpmCN-lixQ\n",
      "-------------------\n",
      "名稱: Cup Noodles Replicas and Case | ASMR\n",
      "連結: https://www.youtube.com/watch?v=JN5fRIkrqCM\n",
      "發佈時間: 2 個月前\n",
      "觀看人數: 觀看次數：54,551次\n",
      "照片: https://i.ytimg.com/vi/JN5fRIkrqCM/hqdefault.jpg?sqp=-oaymwEjCPYBEIoBSFryq4qpAxUIARUAAAAAGAElAADIQj0AgKJDeAE=&rs=AOn4CLCCnfoHsizEm4JaEgKpCcOH0_0SAg\n",
      "-------------------\n",
      "名稱: Churchill's Carousel Tin, Big Wheel Tin, Helter Skelter Tin\n",
      "連結: https://www.youtube.com/watch?v=_9bNcPqDGlY\n",
      "發佈時間: 2 個月前\n",
      "觀看人數: 觀看次數：23,429次\n",
      "照片: https://i.ytimg.com/vi/_9bNcPqDGlY/hqdefault.jpg?sqp=-oaymwEjCPYBEIoBSFryq4qpAxUIARUAAAAAGAElAADIQj0AgKJDeAE=&rs=AOn4CLCsGr8OHPZMovAIdfvcpvTNVJiF6A\n",
      "-------------------\n",
      "名稱: Canned Oden, Nikujaga, Chikuzenni | ASMR\n",
      "連結: https://www.youtube.com/watch?v=9VRD6vti6FI\n",
      "發佈時間: 2 個月前\n",
      "觀看人數: 觀看次數：49,617次\n",
      "照片: https://i.ytimg.com/vi/9VRD6vti6FI/hqdefault.jpg?sqp=-oaymwEjCPYBEIoBSFryq4qpAxUIARUAAAAAGAElAADIQj0AgKJDeAE=&rs=AOn4CLBlsh1NlRmqwpEW4CngWVKi7rxeVw\n",
      "-------------------\n",
      "名稱: Sweets & Snacks | Comparison to Replica and Real food | ASMR\n",
      "連結: https://www.youtube.com/watch?v=wA0OQ2LD36o\n",
      "發佈時間: 3 個月前\n",
      "觀看人數: 觀看次數：191,306次\n",
      "照片: https://i.ytimg.com/vi/wA0OQ2LD36o/hqdefault.jpg?sqp=-oaymwEjCPYBEIoBSFryq4qpAxUIARUAAAAAGAElAADIQj0AgKJDeAE=&rs=AOn4CLAs50O-ikXXGe8KeJppe-eSE346eQ\n",
      "-------------------\n",
      "名稱: SKT VS FW，一次看完 RR開幕戰，Clid JG賽勒斯 教育狼群，Khan卡蜜兒 直切後排 秒殺Betty，Faker妮可 精準綑綁，2019 洲際邀請賽\n",
      "連結: https://www.youtube.com/watch?v=nzi7YJBh2z4\n",
      "發佈時間: 4 個月前\n",
      "觀看人數: 觀看次數：4,534次\n",
      "照片: https://i.ytimg.com/vi/nzi7YJBh2z4/hqdefault.jpg?sqp=-oaymwEjCPYBEIoBSFryq4qpAxUIARUAAAAAGAElAADIQj0AgKJDeAE=&rs=AOn4CLAapuzNuy2rPE4Y4MBxCOyJMnUnSQ\n",
      "-------------------\n",
      "名稱: Шапалак Шоу Назар Роллан vs Хейтер\n",
      "連結: https://www.youtube.com/watch?v=kSXvWt24V2M\n",
      "發佈時間: 1 天前\n",
      "觀看人數: 觀看次數：243,873次\n",
      "照片: https://i.ytimg.com/vi/kSXvWt24V2M/hqdefault.jpg?sqp=-oaymwEjCPYBEIoBSFryq4qpAxUIARUAAAAAGAElAADIQj0AgKJDeAE=&rs=AOn4CLC0d-nEER94dyNGMpIVDokBPtL43Q\n",
      "-------------------\n",
      "名稱: 究極MK進化體 | Honda Mugen RR | 車主實測 |\n",
      "連結: https://www.youtube.com/watch?v=CcUlfkqrZ90\n",
      "發佈時間: 3 個月前\n",
      "觀看人數: 觀看次數：153,188次\n",
      "照片: https://i.ytimg.com/vi/CcUlfkqrZ90/hqdefault.jpg?sqp=-oaymwEjCPYBEIoBSFryq4qpAxUIARUAAAAAGAElAADIQj0AgKJDeAE=&rs=AOn4CLBIyeO_uxmsJ_h96GF7qEKQ0YyvzQ\n",
      "-------------------\n",
      "名稱: Rolls Royce from the Year 2035!\n",
      "連結: https://www.youtube.com/watch?v=GgriNm5S2WE\n",
      "發佈時間: 2 個月前\n",
      "觀看人數: 觀看次數：6,111,044次\n",
      "照片: https://i.ytimg.com/vi/GgriNm5S2WE/hqdefault.jpg?sqp=-oaymwEjCPYBEIoBSFryq4qpAxUIARUAAAAAGAElAADIQj0AgKJDeAE=&rs=AOn4CLA71PsrLYVjdru0QVIXpfAsP66YTg\n",
      "-------------------\n",
      "名稱: Best BESPOKE interiour in the WORLD on the NEW RR PHANTOM?\n",
      "連結: https://www.youtube.com/watch?v=NR8pyJ8WvYE\n",
      "發佈時間: 2 年前\n",
      "觀看人數: 觀看次數：7,006次\n",
      "照片: https://i.ytimg.com/vi/NR8pyJ8WvYE/hqdefault.jpg?sqp=-oaymwEjCPYBEIoBSFryq4qpAxUIARUAAAAAGAElAADIQj0AgKJDeAE=&rs=AOn4CLAfg74IARDueU86yA59MaADzbVTWQ\n",
      "-------------------\n",
      "名稱: Pioneer XDJ RR Performance - Bass House DJ Mix - #SundayDJSkills\n",
      "連結: https://www.youtube.com/watch?v=LuJUd4YL_T4\n",
      "發佈時間: 12 個月前\n",
      "觀看人數: 觀看次數：62,115次\n",
      "照片: https://i.ytimg.com/vi/LuJUd4YL_T4/hqdefault.jpg?sqp=-oaymwEjCPYBEIoBSFryq4qpAxUIARUAAAAAGAElAADIQj0AgKJDeAE=&rs=AOn4CLBYbzrlWXMSUzaHvSKXkboxx_LmPg\n",
      "-------------------\n",
      "名稱: Maicol TA，教RR的發音~~ VER.1\n",
      "連結: https://www.youtube.com/watch?v=vKIlE3Tzmaw\n",
      "發佈時間: 5 年前\n",
      "觀看人數: 觀看次數：138,809次\n",
      "照片: https://i.ytimg.com/vi/vKIlE3Tzmaw/hqdefault.jpg?sqp=-oaymwEjCPYBEIoBSFryq4qpAxUIARUAAAAAGAElAADIQj0AgKJDeAE=&rs=AOn4CLAlVCzRH3ope0Q6JPqt8jKYRrlFNg\n",
      "-------------------\n",
      "名稱: IPL 2020 - All Teams Final Playing 11 | RCB, CSK, MI, KXIP, RR, SRH, KKR, DC\n",
      "連結: https://www.youtube.com/watch?v=wofrEnvXlYI\n",
      "發佈時間: 2 天前\n",
      "觀看人數: 觀看次數：42,856次\n",
      "照片: https://i.ytimg.com/vi/wofrEnvXlYI/hqdefault.jpg?sqp=-oaymwEjCPYBEIoBSFryq4qpAxUIARUAAAAAGAElAADIQj0AgKJDeAE=&rs=AOn4CLA37Np0Rn0R0_bbVgNxVlScC39Pgg\n",
      "-------------------\n",
      "名稱: Faker又装起来了！这就是冠军中单在坏女人面前的样子吗？ - 靠谱盘点\n",
      "連結: https://www.youtube.com/watch?v=5UFWpEPx2xw\n",
      "發佈時間: 4 個月前\n",
      "觀看人數: 觀看次數：69,425次\n",
      "照片: https://i.ytimg.com/vi/5UFWpEPx2xw/hqdefault.jpg?sqp=-oaymwEjCPYBEIoBSFryq4qpAxUIARUAAAAAGAElAADIQj0AgKJDeAE=&rs=AOn4CLCuUWe7b7JHA7gw-v2gxVc1qBLdzg\n",
      "-------------------\n",
      "名稱: KZ vs IG 洲際賽正篇開戰風雲變色 Deft伊澤浮誇輸出猛攻IG！Game 1 | 2019 亞洲對抗賽精華 Highlights\n",
      "連結: https://www.youtube.com/watch?v=cNYysOWlxqk\n",
      "發佈時間: 4 個月前\n",
      "觀看人數: 觀看次數：78,318次\n",
      "照片: https://i.ytimg.com/vi/cNYysOWlxqk/hqdefault.jpg?sqp=-oaymwEjCPYBEIoBSFryq4qpAxUIARUAAAAAGAElAADIQj0AgKJDeAE=&rs=AOn4CLBAN-gHl3G_bBnuT0XGb0ptlUYocA\n",
      "-------------------\n",
      "名稱: 【2019亞洲對抗賽】決賽 LCK vs LPL #1\n",
      "連結: https://www.youtube.com/watch?v=XVoDdY7WFIU\n",
      "發佈時間: 4 個月前\n",
      "觀看人數: 觀看次數：35,066次\n",
      "照片: https://i.ytimg.com/vi/XVoDdY7WFIU/hqdefault.jpg?sqp=-oaymwEjCPYBEIoBSFryq4qpAxUIARUAAAAAGAElAADIQj0AgKJDeAE=&rs=AOn4CLBYjyoRltQ0CC2diNt3uP5So15Eyg\n",
      "-------------------\n",
      "名稱: 台北五毒教 VS BOBO搞事王，一次看完 五毒教 苦戰三把，關鍵局 西門祭出中路潘森，雀巢 李星神偷巴龍，咪咪蛋 會戰神切 扛住傷害，2019 六都電競爭霸戰 臺北四強賽\n",
      "連結: https://www.youtube.com/watch?v=HiJQfxRShW8\n",
      "發佈時間: 4 個月前\n",
      "觀看人數: 觀看次數：80,451次\n",
      "照片: https://i.ytimg.com/vi/HiJQfxRShW8/hqdefault.jpg?sqp=-oaymwEjCPYBEIoBSFryq4qpAxUIARUAAAAAGAElAADIQj0AgKJDeAE=&rs=AOn4CLCmAtOaiLDNMCe76VIc5hb5hL7c5g\n",
      "-------------------\n",
      "名稱: 《LOL》2019 洲際邀請賽 DAY4 決賽\n",
      "連結: https://www.youtube.com/watch?v=PrgoV4-2ttE\n",
      "發佈時間: 直播時間：4 個月前\n",
      "觀看人數: 觀看次數：195,022次\n",
      "照片: https://i.ytimg.com/vi/PrgoV4-2ttE/hqdefault.jpg?sqp=-oaymwEjCPYBEIoBSFryq4qpAxUIARUAAAAAGAElAADIQj0AgKJDeAE=&rs=AOn4CLCI3IM_jj3osHRQQXJEf2BHNk-uKw\n",
      "-------------------\n",
      "名稱: LMS/VCS VS LPL，一次看完 JDG VS FW 、TES VS MAD、DBL VS FPX，LMS聯手VCS寫下RR全敗 0-11 紀錄，2019 洲際邀請賽\n",
      "連結: https://www.youtube.com/watch?v=_plEIk_aU8s\n",
      "發佈時間: 4 個月前\n",
      "觀看人數: 觀看次數：5,492次\n",
      "照片: https://i.ytimg.com/vi/_plEIk_aU8s/hqdefault.jpg?sqp=-oaymwEjCPYBEIoBSFryq4qpAxUIARUAAAAAGAElAADIQj0AgKJDeAE=&rs=AOn4CLDxDSMjZYh9Smcte4inidj1Z0FjPA\n",
      "-------------------\n",
      "名稱: 一次看完 FW MAD 洲際邀請賽Day2，LMS聯手VCS 創下RR史無前例 小組賽 0勝8敗 難堪紀錄，2.7k路西恩 XD，2019 洲際邀請賽\n",
      "連結: https://www.youtube.com/watch?v=Exp3vRxUcK0\n",
      "發佈時間: 4 個月前\n",
      "觀看人數: 觀看次數：9,650次\n",
      "照片: https://i.ytimg.com/vi/Exp3vRxUcK0/hqdefault.jpg?sqp=-oaymwEjCPYBEIoBSFryq4qpAxUIARUAAAAAGAElAADIQj0AgKJDeAE=&rs=AOn4CLAZmSvaOfGBRqyFlxtb2pM-yMQNkg\n",
      "-------------------\n",
      "名稱: DWG vs JDG LCK榮耀再臨！ Faker完成史無前例大滿貫 BeryL神牛毀天滅地一敲四！Game 4 | 2019 亞洲對抗賽精華 Highlights\n",
      "連結: https://www.youtube.com/watch?v=V2Iy32V66-Y\n",
      "發佈時間: 4 個月前\n",
      "觀看人數: 觀看次數：118,404次\n",
      "照片: https://i.ytimg.com/vi/V2Iy32V66-Y/hqdefault.jpg?sqp=-oaymwEjCPYBEIoBSFryq4qpAxUIARUAAAAAGAElAADIQj0AgKJDeAE=&rs=AOn4CLBIMNr4LIoBfyicwuQzbD8n3mrBrQ\n",
      "-------------------\n",
      "名稱: 台北五毒教 VS 五根棒子，一次看完 西門 BEBE 咪咪蛋 雀巢 小夜夜 全面性壓制，西門 魔豆 大棒棒開敲，雀巢牙宿四連殺，MMD 波比 單殺鱷魚，2019 六都電競爭霸戰 臺北八強\n",
      "連結: https://www.youtube.com/watch?v=2fFHnMp_v78\n",
      "發佈時間: 4 個月前\n",
      "觀看人數: 觀看次數：53,080次\n",
      "照片: https://i.ytimg.com/vi/2fFHnMp_v78/hqdefault.jpg?sqp=-oaymwEjCPYBEIoBSFryq4qpAxUIARUAAAAAGAElAADIQj0AgKJDeAE=&rs=AOn4CLDsZIJYYxtB0mkCzcVRTrjU-9Lxvg\n",
      "-------------------\n",
      "名稱: SKT vs IG 未完之戰！Faker絕境李相赫覺醒守家 IG冠軍完全體逆天猛攻！| 2019 亞洲對抗賽精華 Highlights\n",
      "連結: https://www.youtube.com/watch?v=70jmiZjN0UM\n",
      "發佈時間: 4 個月前\n",
      "觀看人數: 觀看次數：154,516次\n",
      "照片: https://i.ytimg.com/vi/70jmiZjN0UM/hqdefault.jpg?sqp=-oaymwEjCPYBEIoBSFryq4qpAxUIARUAAAAAGAElAADIQj0AgKJDeAE=&rs=AOn4CLAMYIkpzPK6CLtiWAWPl3ArCeNuLQ\n",
      "-------------------\n",
      "名稱: RR & Muhammed Eker - Kolpaçino Replik Remix (Club Mix)\n",
      "連結: https://www.youtube.com/watch?v=zCxuirfN8OE\n",
      "發佈時間: 4 週前\n",
      "觀看人數: 觀看次數：27,464次\n",
      "照片: https://i.ytimg.com/vi/zCxuirfN8OE/hqdefault.jpg?sqp=-oaymwEjCPYBEIoBSFryq4qpAxUIARUAAAAAGAElAADIQj0AgKJDeAE=&rs=AOn4CLA5B2WwJui6nv8_nUKstf_72R-5uQ\n",
      "-------------------\n",
      "名稱: Koba LaD - RR 9.1 feat. Niska\n",
      "連結: https://www.youtube.com/watch?v=rD-pMUYJxGM\n",
      "發佈時間: 7 個月前\n",
      "觀看人數: 觀看次數：68,654,153次\n",
      "照片: https://i.ytimg.com/vi/rD-pMUYJxGM/hqdefault.jpg?sqp=-oaymwEjCPYBEIoBSFryq4qpAxUIARUAAAAAGAElAADIQj0AgKJDeAE=&rs=AOn4CLA71PlNcRwSweLIF5gTSZosk0snNg\n",
      "-------------------\n",
      "名稱: Kelemahan kawasaki Ninja ZX150 RR yang owner je tahu.\n",
      "連結: https://www.youtube.com/watch?v=Ot4QQdsOFjQ\n",
      "發佈時間: 1 年前\n",
      "觀看人數: 觀看次數：159,986次\n",
      "照片: https://i.ytimg.com/vi/Ot4QQdsOFjQ/hqdefault.jpg?sqp=-oaymwEjCPYBEIoBSFryq4qpAxUIARUAAAAAGAElAADIQj0AgKJDeAE=&rs=AOn4CLBizWJHgxbXvfs1b-7-ylEfBqrn1g\n",
      "-------------------\n",
      "名稱: 【#遊戯王】対立する反逆の翔！！！『堕天使』vs『RR』【#爆アド】#31\n",
      "連結: https://www.youtube.com/watch?v=4JQ7_gZAbX8\n",
      "發佈時間: 11 個月前\n",
      "觀看人數: 觀看次數：180,726次\n",
      "照片: https://i.ytimg.com/vi/4JQ7_gZAbX8/hqdefault.jpg?sqp=-oaymwEjCPYBEIoBSFryq4qpAxUIARUAAAAAGAElAADIQj0AgKJDeAE=&rs=AOn4CLAjPzEFCxVX_uFSi2IRWYuBfZOkmw\n",
      "-------------------\n",
      "名稱: Learn Spanish -  How to Roll your r's tutorial - RR Trill pronunciation\n",
      "連結: https://www.youtube.com/watch?v=Lp_lxXyGeZ0\n",
      "發佈時間: 3 年前\n",
      "觀看人數: 觀看次數：104,212次\n",
      "照片: https://i.ytimg.com/vi/Lp_lxXyGeZ0/hqdefault.jpg?sqp=-oaymwEjCPYBEIoBSFryq4qpAxUIARUAAAAAGAElAADIQj0AgKJDeAE=&rs=AOn4CLBmf5qKeA5zZfGl6oEg2NvMPki6GA\n",
      "-------------------\n",
      "名稱: Rr\n",
      "連結: https://www.youtube.com/watch?v=pOnsmFPVU0k\n",
      "發佈時間: 1 個月前\n",
      "觀看人數: 觀看次數：5,588次\n",
      "照片: https://i.ytimg.com/vi/pOnsmFPVU0k/hqdefault.jpg?sqp=-oaymwEjCPYBEIoBSFryq4qpAxUIARUAAAAAGAElAADIQj0AgKJDeAE=&rs=AOn4CLCcHaZNtVXrdA_kX-fy4rugT9P0wQ\n",
      "-------------------\n",
      "名稱: Pronunciación de \"rr\" y \"r\". \"rr\" and \"r\" pronunciation.\n",
      "連結: https://www.youtube.com/watch?v=F2aPTieKP_E\n",
      "發佈時間: 2 年前\n",
      "觀看人數: 觀看次數：331,573次\n",
      "照片: https://i.ytimg.com/vi/F2aPTieKP_E/hqdefault.jpg?sqp=-oaymwEjCPYBEIoBSFryq4qpAxUIARUAAAAAGAElAADIQj0AgKJDeAE=&rs=AOn4CLDurGz0JB7YGMToxTk9-b_lVxAncg\n",
      "-------------------\n",
      "名稱: 2019 BMW S 1000 RR - Awesome Supersports Bike\n",
      "連結: https://www.youtube.com/watch?v=UNzi59A6XoM\n",
      "發佈時間: 8 個月前\n",
      "觀看人數: 觀看次數：329,106次\n",
      "照片: https://i.ytimg.com/vi/UNzi59A6XoM/hqdefault.jpg?sqp=-oaymwEjCPYBEIoBSFryq4qpAxUIARUAAAAAGAElAADIQj0AgKJDeAE=&rs=AOn4CLBuJczV9lE-L8zaQf8slB_FXhVMpg\n",
      "-------------------\n"
     ]
    }
   ],
   "source": [
    "for all_mv in objSoup.select(\".yt-lockup-video\"):\n",
    "    # 抓取 Title & Link\n",
    "    data = all_mv.select(\"a[rel='spf-prefetch']\")\n",
    "    print(\"名稱: {}\".format(data[0].get(\"title\")))\n",
    "    print(\"連結: https://www.youtube.com{}\".format(data[0].get(\"href\")))\n",
    "     \n",
    "    # 抓取觀看時間與人數\n",
    "    data = all_mv.select(\".yt-lockup-meta-info\")\n",
    "    time = data[0].get_text(\"#\").split(\"#\")[0]\n",
    "    see = data[0].get_text(\"#\").split(\"#\")[1]\n",
    "    print(\"發佈時間: {}\".format(time))\n",
    "    print(\"觀看人數: {}\".format(see))\n",
    "    \n",
    "    # 抓取Img\n",
    "    data = all_mv.select(\"a[rel='spf-prefetch']\")\n",
    "    img = all_mv.select(\"img\")\n",
    "    if img[0].get(\"src\") != \"/yts/img/pixel-vfl3z5WfW.gif\":\n",
    "        print(\"照片: {}\".format(img[0].get(\"src\")))\n",
    "    else:\n",
    "        print(\"照片: {}\".format(img[0].get(\"data-thumb\")))\n",
    "    print(\"-------------------\")"
   ]
  },
  {
   "cell_type": "markdown",
   "metadata": {},
   "source": [
    "# 讀取CSV資料"
   ]
  },
  {
   "cell_type": "markdown",
   "metadata": {},
   "source": [
    "# 爬取主題留言"
   ]
  },
  {
   "cell_type": "code",
   "execution_count": 53,
   "metadata": {},
   "outputs": [
    {
     "name": "stdout",
     "output_type": "stream",
     "text": [
      "想爬取的網頁:https://www.youtube.com/watch?v=UNzi59A6XoM\n",
      "頁面下載中\n",
      "/Users/yeshiouwei/Project1\n",
      "網頁下載完成\n"
     ]
    }
   ],
   "source": [
    "SearchWeb = input(\"想爬取的網頁:\")\n",
    "Webfile = requests.get(SearchWeb)\n",
    "WebSoup = BeautifulSoup(Webfile.text,'html.parser')\n",
    "print(\"頁面下載中\")\n",
    "print(os.path.abspath('.'))\n",
    "htmlfile.raise_for_status()\n",
    "Webfn = 'Web.text'\n",
    "with open(Webfn, 'w') as Web_Obj:\n",
    "    Web_Obj.write(Webfile.text)\n",
    "print(\"網頁下載完成\")"
   ]
  },
  {
   "cell_type": "code",
   "execution_count": 54,
   "metadata": {},
   "outputs": [],
   "source": []
  },
  {
   "cell_type": "code",
   "execution_count": null,
   "metadata": {},
   "outputs": [],
   "source": []
  },
  {
   "cell_type": "code",
   "execution_count": null,
   "metadata": {},
   "outputs": [],
   "source": []
  }
 ],
 "metadata": {
  "kernelspec": {
   "display_name": "Python 3",
   "language": "python",
   "name": "python3"
  },
  "language_info": {
   "codemirror_mode": {
    "name": "ipython",
    "version": 3
   },
   "file_extension": ".py",
   "mimetype": "text/x-python",
   "name": "python",
   "nbconvert_exporter": "python",
   "pygments_lexer": "ipython3",
   "version": "3.8.0"
  }
 },
 "nbformat": 4,
 "nbformat_minor": 2
}
